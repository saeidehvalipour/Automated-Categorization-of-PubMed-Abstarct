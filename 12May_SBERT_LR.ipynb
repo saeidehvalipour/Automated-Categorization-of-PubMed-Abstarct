{
 "cells": [
  {
   "cell_type": "markdown",
   "id": "05077a61-5c4e-4ec8-b170-a3996bf7ffb6",
   "metadata": {},
   "source": [
    "### Use SBERT to do embedding for me, and apply LR"
   ]
  },
  {
   "cell_type": "markdown",
   "id": "00239039-6439-4823-8845-24fc4484af91",
   "metadata": {},
   "source": [
    "### 1.1. Load each dataset (train, development, test).\n"
   ]
  },
  {
   "cell_type": "code",
   "execution_count": 2,
   "id": "f7a09d5e-7ff6-4e20-92f2-55fde5b2c255",
   "metadata": {
    "execution": {
     "iopub.execute_input": "2024-05-13T15:09:38.574031Z",
     "iopub.status.busy": "2024-05-13T15:09:38.573711Z",
     "iopub.status.idle": "2024-05-13T15:11:09.742175Z",
     "shell.execute_reply": "2024-05-13T15:11:09.741082Z",
     "shell.execute_reply.started": "2024-05-13T15:09:38.574008Z"
    }
   },
   "outputs": [],
   "source": [
    "import pandas as pd\n",
    "from sentence_transformers import SentenceTransformer\n",
    "import pickle\n",
    "import numpy as np\n",
    "from tqdm import tqdm"
   ]
  },
  {
   "cell_type": "markdown",
   "id": "d8e8a694-c677-4c8d-8bd5-20ec4246ebba",
   "metadata": {},
   "source": [
    "### 1.2. Generate SBERT embeddings for each dataset.\n"
   ]
  },
  {
   "cell_type": "code",
   "execution_count": 2,
   "id": "fe139d7a-a508-47a0-a723-e6d8a4992114",
   "metadata": {
    "execution": {
     "iopub.execute_input": "2024-05-13T02:54:22.604896Z",
     "iopub.status.busy": "2024-05-13T02:54:22.604484Z",
     "iopub.status.idle": "2024-05-13T02:56:23.369643Z",
     "shell.execute_reply": "2024-05-13T02:56:23.368671Z",
     "shell.execute_reply.started": "2024-05-13T02:54:22.604872Z"
    }
   },
   "outputs": [
    {
     "name": "stdout",
     "output_type": "stream",
     "text": [
      "CPU times: user 3min 55s, sys: 44.7 s, total: 4min 40s\n",
      "Wall time: 2min\n"
     ]
    }
   ],
   "source": [
    "%%time\n",
    "data = pd.read_csv('20K_test_set.csv')\n",
    "model = SentenceTransformer('all-MiniLM-L6-v2')\n",
    "\n",
    "test_embeddings = model.encode(data['Sentence'].tolist(), convert_to_tensor=False)"
   ]
  },
  {
   "cell_type": "code",
   "execution_count": 3,
   "id": "5164e798-97e9-4a4a-bd8d-7cd3d2ffecab",
   "metadata": {
    "execution": {
     "iopub.execute_input": "2024-05-13T02:57:01.376191Z",
     "iopub.status.busy": "2024-05-13T02:57:01.375245Z",
     "iopub.status.idle": "2024-05-13T02:57:01.757892Z",
     "shell.execute_reply": "2024-05-13T02:57:01.756997Z",
     "shell.execute_reply.started": "2024-05-13T02:57:01.376164Z"
    }
   },
   "outputs": [
    {
     "name": "stdout",
     "output_type": "stream",
     "text": [
      "CPU times: user 24.1 ms, sys: 193 ms, total: 217 ms\n",
      "Wall time: 376 ms\n"
     ]
    }
   ],
   "source": [
    "%%time\n",
    "with open('test_embeddings.pkl', 'wb') as f:\n",
    "    pickle.dump(test_embeddings, f)"
   ]
  },
  {
   "cell_type": "markdown",
   "id": "5e26c81d-fe8f-41e8-9c0d-e208a0e0314d",
   "metadata": {},
   "source": [
    "Print to make sure all is ok so far."
   ]
  },
  {
   "cell_type": "code",
   "execution_count": 6,
   "id": "f2e9b2a2-8fdc-41ad-ac3d-a522cf2bc0f1",
   "metadata": {
    "execution": {
     "iopub.execute_input": "2024-05-12T16:53:49.621193Z",
     "iopub.status.busy": "2024-05-12T16:53:49.621044Z",
     "iopub.status.idle": "2024-05-12T16:53:49.689595Z",
     "shell.execute_reply": "2024-05-12T16:53:49.688720Z",
     "shell.execute_reply.started": "2024-05-12T16:53:49.621178Z"
    }
   },
   "outputs": [
    {
     "name": "stdout",
     "output_type": "stream",
     "text": [
      "First embedding: [ 9.11856163e-03 -4.47563417e-02  5.87600954e-02 -1.81896612e-02\n",
      " -1.51282877e-01 -4.60152552e-02  8.10612962e-02  3.77866141e-02\n",
      " -1.32820103e-02  5.53740598e-02  8.40154383e-03 -2.30060667e-02\n",
      " -3.33225578e-02 -2.93537546e-02 -5.71298115e-02  2.07510274e-02\n",
      " -5.15412576e-02 -6.99211657e-02  4.32257503e-02  7.26956576e-02\n",
      " -4.60451394e-02 -1.41243383e-01 -8.47623404e-03 -3.24155614e-02\n",
      " -1.80014948e-04  4.66822833e-02  8.64930600e-02  7.50683993e-03\n",
      " -2.13331487e-02 -6.04886608e-03 -5.24996370e-02 -9.60208923e-02\n",
      " -5.37510253e-02 -3.75793092e-02 -9.50987171e-03 -2.16721501e-02\n",
      " -2.14735437e-02  3.79567081e-03  4.73013967e-02  1.01758167e-01\n",
      " -5.68584874e-02  4.99271601e-02 -1.47951134e-02  1.15215257e-02\n",
      " -3.25167552e-02 -1.10752368e-02 -6.52184412e-02 -3.75077538e-02\n",
      "  2.52358485e-02 -4.78533916e-02 -7.68651068e-02 -3.23524699e-02\n",
      "  1.22289769e-02 -1.39875017e-04 -4.05414738e-02  1.80147067e-02\n",
      " -3.10993195e-02 -2.85615586e-02  1.04674183e-01 -1.61091350e-02\n",
      " -7.16102049e-02 -2.01070942e-02  1.10836402e-01 -6.54301122e-02\n",
      " -4.91942726e-02 -3.26465406e-02 -1.98151097e-02 -3.76444645e-02\n",
      "  9.49840546e-02  8.35404247e-02  7.24623427e-02 -4.55222186e-03\n",
      " -2.23050884e-04 -2.82241255e-02 -8.76395181e-02 -6.68725073e-02\n",
      "  7.18630031e-02 -1.80530921e-02  8.76657516e-02  6.72725588e-02\n",
      " -2.97977645e-02  1.38052506e-02 -4.24160548e-02 -4.96802926e-02\n",
      "  6.63370863e-02 -1.43972132e-02  4.21675965e-02 -2.85278298e-02\n",
      " -1.84178241e-02 -2.03381144e-02  3.63816018e-03  1.44561408e-02\n",
      " -3.83895147e-03 -3.14808153e-02 -5.17545864e-02 -9.88472104e-02\n",
      "  3.26919444e-02  3.48888561e-02  2.02269498e-02 -5.54019120e-03\n",
      "  3.34726200e-02  4.87668905e-04  1.28395617e-01 -1.01243155e-02\n",
      "  5.75225428e-03 -4.15303279e-03  4.31707203e-02 -3.41675989e-02\n",
      "  4.61373525e-03 -7.78490156e-02 -3.93148027e-02 -1.66769605e-02\n",
      "  5.27266711e-02 -8.97362754e-02 -1.84252020e-02  1.00231297e-01\n",
      " -4.70098145e-02 -3.94463725e-02  7.62775987e-02  4.97054681e-02\n",
      "  3.30853574e-02 -7.06200162e-03  2.59615444e-02 -8.02460685e-03\n",
      "  6.59692734e-02  3.75981815e-02 -1.37126362e-02 -1.99044567e-33\n",
      "  3.34065929e-02 -3.27684730e-02 -1.33110126e-02 -7.69467503e-02\n",
      " -7.87329488e-03  1.73472390e-02  2.55918931e-02  2.31139157e-02\n",
      " -3.55209596e-02 -4.53465469e-02  3.39044514e-03 -3.73360775e-02\n",
      " -2.89311949e-02 -5.00963740e-02 -2.86323018e-02  5.09473272e-02\n",
      "  6.69776127e-02  5.22755869e-02 -1.96130108e-02  4.67970688e-03\n",
      " -1.77372340e-02  3.32654938e-02  2.00264389e-03  2.34315339e-02\n",
      " -1.63282771e-02 -1.43360216e-02  1.05442218e-02 -3.09434813e-02\n",
      "  1.66568793e-02  3.15194651e-02  5.93937598e-02 -2.54788785e-03\n",
      " -3.42449062e-02  2.56066527e-02 -3.58367525e-02  7.41801485e-02\n",
      " -5.06275967e-02  5.79489442e-03  2.90816929e-02  2.32171491e-02\n",
      " -1.22562600e-02 -8.97553861e-02  2.00173911e-02  8.02080706e-02\n",
      " -4.97568250e-02 -5.71044022e-03  2.00060606e-02  1.99358985e-02\n",
      "  5.10723107e-02 -6.24204539e-02 -2.41892207e-02 -1.12566426e-02\n",
      "  5.90516552e-02  6.67025894e-02 -2.16101180e-03 -6.65140599e-02\n",
      " -2.12434996e-02 -6.11528866e-02  3.12042478e-02 -1.26754222e-02\n",
      "  8.41141492e-02 -3.65794711e-02 -3.34241614e-02  7.37426355e-02\n",
      " -1.94776640e-03 -6.18648231e-02  1.92172825e-02 -2.15315539e-02\n",
      " -8.44061300e-02 -8.51393864e-02 -1.11517077e-02 -1.22502826e-01\n",
      "  7.07822740e-02  5.79665899e-02  1.73469521e-02  1.35257710e-02\n",
      "  3.11243292e-02 -3.44468914e-02 -1.11157335e-01 -1.25555666e-02\n",
      " -7.00760409e-02 -2.04638466e-02  3.59993279e-02  8.65217950e-03\n",
      " -1.40005443e-02  3.65386158e-02  1.00431442e-02  2.58023683e-02\n",
      " -3.87732871e-02  5.61341792e-02  1.80222152e-03 -2.72227526e-02\n",
      " -1.04398265e-01  7.58158369e-03 -3.85061055e-02 -1.36691663e-33\n",
      " -6.61801398e-02 -2.09998675e-02 -2.10196190e-02 -1.27938751e-03\n",
      " -5.26144467e-02  6.17215112e-02  4.90958430e-02  1.07760191e-01\n",
      " -5.60183637e-02  3.38846371e-02 -1.04806116e-02 -2.22924910e-02\n",
      " -1.75947323e-02 -1.00809194e-01 -1.06231282e-02  3.16044465e-02\n",
      "  4.69842702e-02  5.46927713e-02  1.73119381e-02 -4.59969826e-02\n",
      " -2.90162470e-02  6.32453635e-02 -2.55339071e-02 -6.21949416e-03\n",
      "  4.90668863e-02  3.60677429e-02  4.89080325e-02 -7.63017163e-02\n",
      " -7.85247758e-02  3.01941186e-02 -1.72138270e-02  5.22435531e-02\n",
      "  1.48936827e-03  1.59706213e-02  1.29562709e-03 -3.40127982e-02\n",
      "  5.85254431e-02 -1.04966819e-01 -2.53290981e-02  4.07535471e-02\n",
      " -1.42987128e-02 -7.81591237e-02  9.83948559e-02  9.77691337e-02\n",
      "  5.30389436e-02 -9.31121036e-03 -1.48123819e-02  9.25741941e-02\n",
      "  4.78613749e-02  4.03289683e-02 -7.34164938e-02  3.83934602e-02\n",
      "  4.02002931e-02 -3.72158438e-02  1.78086497e-02  6.10870719e-02\n",
      " -1.31571695e-01  3.54332849e-02  5.94347380e-02 -1.81165431e-03\n",
      "  6.31669685e-02 -7.86904767e-02  4.62399470e-03  2.91442708e-03\n",
      "  5.91714233e-02  7.08685741e-02  1.63780134e-02 -1.56509038e-02\n",
      "  8.61473531e-02 -5.80330044e-02 -3.36828157e-02  3.53367999e-02\n",
      " -4.51804027e-02  5.86836003e-02  6.07249103e-02  1.04118079e-01\n",
      "  6.39842004e-02  1.60348378e-02  5.32923639e-02 -1.80106442e-02\n",
      "  7.92590380e-02 -4.81295846e-02  1.26149267e-01 -1.90237677e-03\n",
      "  5.56987105e-03  1.60695035e-02  4.02250215e-02 -3.43670286e-02\n",
      " -8.22324976e-02 -6.03915974e-02 -2.00380385e-02 -6.01225533e-02\n",
      " -1.24806292e-01 -1.55502707e-02 -1.13221677e-02 -2.53739323e-08\n",
      "  8.62175152e-02 -5.78083582e-02 -3.88299562e-02 -8.82174671e-02\n",
      " -7.96214398e-03 -7.61648193e-02 -5.19287735e-02  1.34879071e-02\n",
      " -5.13550602e-02 -4.04144870e-03 -6.24832511e-02  7.57989883e-02\n",
      "  9.25122947e-03 -4.32863422e-02 -2.15121284e-02  6.00978034e-03\n",
      "  4.61151488e-02  6.00429289e-02 -4.22082245e-02 -5.12079289e-03\n",
      "  6.19323866e-04 -8.39673653e-02  8.86259414e-03 -2.77457535e-02\n",
      " -1.48814972e-02  7.39672333e-02  3.93355414e-02  9.96310636e-02\n",
      " -1.10850580e-01 -2.02091858e-02  1.08808786e-01 -1.88736822e-02\n",
      " -1.99594237e-02 -7.49271503e-03 -1.64059419e-02  8.27619620e-03\n",
      " -1.77784357e-02 -5.28954528e-02  4.86461781e-02  1.00898370e-03\n",
      "  4.06541079e-02 -8.57794471e-03  4.85989377e-02  4.25256863e-02\n",
      " -1.59414690e-02  6.68952614e-03  2.72155099e-04 -6.57085925e-02\n",
      "  6.45627305e-02  3.63356769e-02 -5.71000390e-02 -3.92794944e-02\n",
      "  1.80871245e-02  1.61040984e-02 -8.50441530e-02 -5.18152043e-02\n",
      "  9.68143046e-02  2.85676681e-02 -7.47372732e-02 -2.97999685e-03\n",
      "  6.56367019e-02  5.03538214e-02  1.06127098e-01  3.06468736e-02]\n",
      "Shape/Length of first embedding: 384\n"
     ]
    }
   ],
   "source": [
    "with open('test_embeddings.pkl', 'rb') as f:\n",
    "    test_embeddings = pickle.load(f)\n",
    "\n",
    "print(\"First embedding:\", test_embeddings[0])\n",
    "print(\"Shape/Length of first embedding:\", len(test_embeddings[0]))"
   ]
  },
  {
   "cell_type": "markdown",
   "id": "0fc148f0-d73a-4c6f-bbf4-5bd883e40980",
   "metadata": {},
   "source": [
    "This will print something like (N, D) where N is the number of sentences and D is the dimension of each embedding vector. please note that dimension of embedding vector is 384 for 'all-MiniLM-L6-v2' model according to their library."
   ]
  },
  {
   "cell_type": "code",
   "execution_count": 10,
   "id": "43c62565-eedf-4aa1-a6a1-add1988b55e3",
   "metadata": {
    "execution": {
     "iopub.execute_input": "2024-05-12T17:02:09.114187Z",
     "iopub.status.busy": "2024-05-12T17:02:09.113864Z",
     "iopub.status.idle": "2024-05-12T17:02:09.214111Z",
     "shell.execute_reply": "2024-05-12T17:02:09.213237Z",
     "shell.execute_reply.started": "2024-05-12T17:02:09.114165Z"
    }
   },
   "outputs": [
    {
     "name": "stdout",
     "output_type": "stream",
     "text": [
      "Shape of test embeddings: (202426, 384)\n"
     ]
    }
   ],
   "source": [
    "with open('test_embeddings.pkl', 'rb') as f:\n",
    "    test_embeddings = pickle.load(f)\n",
    "# Convert embeddings to a numpy array\n",
    "test_embeddings_array = np.array(test_embeddings)\n",
    "\n",
    "print(\"Shape of test embeddings:\", test_embeddings_array.shape)"
   ]
  },
  {
   "cell_type": "code",
   "execution_count": 5,
   "id": "f2138ab0-df62-4d44-b0ff-690b5d08a655",
   "metadata": {
    "execution": {
     "iopub.execute_input": "2024-05-12T16:35:33.927025Z",
     "iopub.status.busy": "2024-05-12T16:35:33.926710Z",
     "iopub.status.idle": "2024-05-12T16:53:49.619850Z",
     "shell.execute_reply": "2024-05-12T16:53:49.618952Z",
     "shell.execute_reply.started": "2024-05-12T16:35:33.926998Z"
    }
   },
   "outputs": [
    {
     "name": "stdout",
     "output_type": "stream",
     "text": [
      "CPU times: user 37min 37s, sys: 7min 32s, total: 45min 10s\n",
      "Wall time: 18min 15s\n"
     ]
    }
   ],
   "source": [
    "%%time\n",
    "data = pd.read_csv('200K_train_set.csv')\n",
    "model = SentenceTransformer('all-MiniLM-L6-v2')\n",
    "\n",
    "train_embeddings = model.encode(data['Sentence'].tolist(), convert_to_tensor=False)\n",
    "\n",
    "with open('train_embeddings.pkl', 'wb') as f:\n",
    "    pickle.dump(train_embeddings, f)"
   ]
  },
  {
   "cell_type": "code",
   "execution_count": 7,
   "id": "61039e9d-ee76-447d-899c-629738059a7d",
   "metadata": {
    "execution": {
     "iopub.execute_input": "2024-05-12T16:56:59.791863Z",
     "iopub.status.busy": "2024-05-12T16:56:59.791047Z",
     "iopub.status.idle": "2024-05-12T16:58:46.107320Z",
     "shell.execute_reply": "2024-05-12T16:58:46.106365Z",
     "shell.execute_reply.started": "2024-05-12T16:56:59.791832Z"
    }
   },
   "outputs": [
    {
     "name": "stdout",
     "output_type": "stream",
     "text": [
      "CPU times: user 3min 43s, sys: 43 s, total: 4min 26s\n",
      "Wall time: 1min 46s\n"
     ]
    }
   ],
   "source": [
    "%%time\n",
    "data = pd.read_csv('20K_dev_set.csv')\n",
    "model = SentenceTransformer('all-MiniLM-L6-v2')\n",
    "\n",
    "dev_embeddings = model.encode(data['Sentence'].tolist(), convert_to_tensor=False)\n",
    "\n",
    "with open('dev_embeddings.pkl', 'wb') as f:\n",
    "    pickle.dump(dev_embeddings, f)"
   ]
  },
  {
   "cell_type": "markdown",
   "id": "4725992e-8992-4c3d-acbe-26d2476d0bd4",
   "metadata": {},
   "source": [
    "Now I have saved embedding file for each dataset."
   ]
  },
  {
   "cell_type": "markdown",
   "id": "519d2c0c-65be-460f-9f2b-bb4eed7342a0",
   "metadata": {},
   "source": [
    "### 2.1. Multi-class Text Classification"
   ]
  },
  {
   "cell_type": "markdown",
   "id": "b111e599-d183-4929-b31b-7e633390f6f9",
   "metadata": {},
   "source": [
    "1- Load the embeddings and labels for each dataset (train, development, test).\n",
    "2- Train a logistic regression model using the training data.\n",
    "3- Evaluate the model on the development and test datasets using metrics like F1-score, precision, recall, and generate a confusion matrix."
   ]
  },
  {
   "cell_type": "code",
   "execution_count": 4,
   "id": "4fa49ce1-5c2a-4ced-883a-209b80fb99fd",
   "metadata": {
    "execution": {
     "iopub.execute_input": "2024-05-13T02:57:32.726020Z",
     "iopub.status.busy": "2024-05-13T02:57:32.725107Z",
     "iopub.status.idle": "2024-05-13T02:57:35.485288Z",
     "shell.execute_reply": "2024-05-13T02:57:35.484332Z",
     "shell.execute_reply.started": "2024-05-13T02:57:32.725990Z"
    }
   },
   "outputs": [],
   "source": [
    "import pickle\n",
    "import pandas as pd\n",
    "from sklearn.linear_model import LogisticRegression\n",
    "from sklearn.metrics import classification_report, confusion_matrix\n",
    "import numpy as np\n",
    "from sklearn.linear_model import LogisticRegression\n",
    "from sklearn.metrics import f1_score, roc_auc_score, average_precision_score, confusion_matrix, ConfusionMatrixDisplay, classification_report\n",
    "from sklearn.preprocessing import label_binarize\n",
    "import matplotlib.pyplot as plt"
   ]
  },
  {
   "cell_type": "code",
   "execution_count": 5,
   "id": "25e64dd8-60bc-4555-aeeb-ceda1d84713e",
   "metadata": {
    "execution": {
     "iopub.execute_input": "2024-05-13T02:57:37.517150Z",
     "iopub.status.busy": "2024-05-13T02:57:37.516269Z",
     "iopub.status.idle": "2024-05-13T02:57:37.523102Z",
     "shell.execute_reply": "2024-05-13T02:57:37.522324Z",
     "shell.execute_reply.started": "2024-05-13T02:57:37.517122Z"
    }
   },
   "outputs": [],
   "source": [
    "# Load embeddings and labels\n",
    "def load_data(embeddings_path, data_path):\n",
    "    with open(embeddings_path, 'rb') as f:\n",
    "        embeddings = pickle.load(f)\n",
    "    data = pd.read_csv(data_path)\n",
    "    labels = data['Label']\n",
    "    return embeddings, labels"
   ]
  },
  {
   "cell_type": "code",
   "execution_count": 6,
   "id": "5f3283f2-922a-455a-b716-688b7c425d1f",
   "metadata": {
    "execution": {
     "iopub.execute_input": "2024-05-13T02:57:41.692347Z",
     "iopub.status.busy": "2024-05-13T02:57:41.691962Z",
     "iopub.status.idle": "2024-05-13T02:57:47.616404Z",
     "shell.execute_reply": "2024-05-13T02:57:47.615679Z",
     "shell.execute_reply.started": "2024-05-13T02:57:41.692323Z"
    }
   },
   "outputs": [
    {
     "name": "stdout",
     "output_type": "stream",
     "text": [
      "CPU times: user 3.39 s, sys: 1.78 s, total: 5.17 s\n",
      "Wall time: 5.92 s\n"
     ]
    }
   ],
   "source": [
    "%%time\n",
    "\n",
    "train_embeddings, train_labels = load_data('train_embeddings.pkl', '200K_train_set.csv')\n",
    "dev_embeddings, dev_labels = load_data('dev_embeddings.pkl', '20K_dev_set.csv')\n",
    "test_embeddings, test_labels = load_data('test_embeddings.pkl', '20K_test_set.csv')"
   ]
  },
  {
   "cell_type": "markdown",
   "id": "7374fbc3-0736-45d3-ac10-81f963aeebb9",
   "metadata": {},
   "source": [
    "### 2.2. Train Logistic Regression"
   ]
  },
  {
   "cell_type": "code",
   "execution_count": 21,
   "id": "4731471c-f8a0-4c87-85a0-2887a67a60a4",
   "metadata": {
    "execution": {
     "iopub.execute_input": "2024-05-13T03:07:58.371442Z",
     "iopub.status.busy": "2024-05-13T03:07:58.371108Z",
     "iopub.status.idle": "2024-05-13T03:13:38.505362Z",
     "shell.execute_reply": "2024-05-13T03:13:38.504197Z",
     "shell.execute_reply.started": "2024-05-13T03:07:58.371419Z"
    }
   },
   "outputs": [
    {
     "name": "stdout",
     "output_type": "stream",
     "text": [
      "Development Set Evaluation:\n",
      "Classification Report:\n",
      "               precision    recall  f1-score   support\n",
      "\n",
      "  BACKGROUND       0.36      0.08      0.14     10685\n",
      " CONCLUSIONS       0.61      0.69      0.65     39897\n",
      "     METHODS       0.71      0.76      0.74     59219\n",
      "   OBJECTIVE       0.42      0.11      0.17      8819\n",
      "     RESULTS       0.75      0.79      0.77     83857\n",
      "\n",
      "    accuracy                           0.69    202477\n",
      "   macro avg       0.57      0.49      0.49    202477\n",
      "weighted avg       0.67      0.69      0.67    202477\n",
      "\n",
      "Confusion Matrix:\n",
      " [[  908  5509  2125   588  1555]\n",
      " [  670 27611  2901   339  8376]\n",
      " [  173  2148 45272   260 11366]\n",
      " [  419  3662  2636   957  1145]\n",
      " [  368  6554 10977   108 65850]]\n",
      "Test Set Evaluation:\n",
      "Classification Report:\n",
      "               precision    recall  f1-score   support\n",
      "\n",
      "  BACKGROUND       0.37      0.08      0.14     11287\n",
      " CONCLUSIONS       0.60      0.69      0.64     39638\n",
      "     METHODS       0.71      0.76      0.73     59662\n",
      "   OBJECTIVE       0.42      0.11      0.17      8821\n",
      "     RESULTS       0.74      0.79      0.76     83018\n",
      "\n",
      "    accuracy                           0.69    202426\n",
      "   macro avg       0.57      0.49      0.49    202426\n",
      "weighted avg       0.67      0.69      0.67    202426\n",
      "\n",
      "Confusion Matrix:\n",
      " [[  951  5846  2278   621  1591]\n",
      " [  671 27177  3038   335  8417]\n",
      " [  160  2237 45613   245 11407]\n",
      " [  436  3631  2637   948  1169]\n",
      " [  359  6276 10946   113 65324]]\n"
     ]
    }
   ],
   "source": [
    "# Initialize and train logistic regression model\n",
    "lr_model = LogisticRegression(max_iter=1000)\n",
    "lr_model.fit(train_embeddings, train_labels)\n",
    "\n",
    "# Evaluate on the development set\n",
    "dev_pred = lr_model.predict(dev_embeddings)\n",
    "print(\"Development Set Evaluation:\")\n",
    "print(\"Classification Report:\\n\", classification_report(dev_labels, dev_pred))\n",
    "print(\"Confusion Matrix:\\n\", confusion_matrix(dev_labels, dev_pred))\n",
    "\n",
    "# Optionally, evaluate on the test set\n",
    "test_pred = lr_model.predict(test_embeddings)\n",
    "print(\"Test Set Evaluation:\")\n",
    "print(\"Classification Report:\\n\", classification_report(test_labels, test_pred))\n",
    "print(\"Confusion Matrix:\\n\", confusion_matrix(test_labels, test_pred))"
   ]
  },
  {
   "cell_type": "code",
   "execution_count": 22,
   "id": "f942a0cb-bcf3-4499-9234-049ed8da3693",
   "metadata": {
    "execution": {
     "iopub.execute_input": "2024-05-13T03:13:52.900169Z",
     "iopub.status.busy": "2024-05-13T03:13:52.899788Z",
     "iopub.status.idle": "2024-05-13T03:22:19.588591Z",
     "shell.execute_reply": "2024-05-13T03:22:19.587855Z",
     "shell.execute_reply.started": "2024-05-13T03:13:52.900145Z"
    }
   },
   "outputs": [],
   "source": [
    "# Load test data\n",
    "test_embeddings, test_labels = load_data('test_embeddings.pkl', '20K_test_set.csv')\n",
    "\n",
    "# Initialize and train logistic regression model\n",
    "lr_model = LogisticRegression(max_iter=1000, random_state=42)\n",
    "train_embeddings, train_labels = load_data('train_embeddings.pkl', '200K_train_set.csv')\n",
    "lr_model.fit(train_embeddings, train_labels)\n",
    "\n",
    "# Predict labels and probabilities for the test set\n",
    "test_pred = lr_model.predict(test_embeddings)\n",
    "test_prob = lr_model.predict_proba(test_embeddings)"
   ]
  },
  {
   "cell_type": "code",
   "execution_count": 19,
   "id": "de6c690a-9c1c-4586-bd91-5d5f3e9da149",
   "metadata": {
    "execution": {
     "iopub.execute_input": "2024-05-12T17:33:07.181763Z",
     "iopub.status.busy": "2024-05-12T17:33:07.181373Z",
     "iopub.status.idle": "2024-05-12T17:33:08.181728Z",
     "shell.execute_reply": "2024-05-12T17:33:08.180852Z",
     "shell.execute_reply.started": "2024-05-12T17:33:07.181733Z"
    }
   },
   "outputs": [
    {
     "name": "stdout",
     "output_type": "stream",
     "text": [
      "Sentence-level F1 Score: 0.490\n"
     ]
    }
   ],
   "source": [
    "# Calculate sentence-level F1 Score\n",
    "sentence_f1 = f1_score(test_labels, test_pred, average='macro')\n",
    "print(f'Sentence-level F1 Score: {sentence_f1:.3f}')"
   ]
  },
  {
   "cell_type": "code",
   "execution_count": 23,
   "id": "a650c9df-a3b2-4b2d-a0d3-00a6df47f504",
   "metadata": {
    "execution": {
     "iopub.execute_input": "2024-05-13T03:24:53.343843Z",
     "iopub.status.busy": "2024-05-13T03:24:53.343422Z",
     "iopub.status.idle": "2024-05-13T03:24:54.149012Z",
     "shell.execute_reply": "2024-05-13T03:24:54.148598Z",
     "shell.execute_reply.started": "2024-05-13T03:24:53.343818Z"
    }
   },
   "outputs": [
    {
     "name": "stdout",
     "output_type": "stream",
     "text": [
      "AUC-ROC: 0.884, AUC-PR: 0.732\n"
     ]
    }
   ],
   "source": [
    "classes = np.unique(test_labels)\n",
    "test_labels_binarized = label_binarize(test_labels, classes=classes)\n",
    "test_prob = lr_model.predict_proba(test_embeddings)\n",
    "\n",
    "# Calculate AUC scores\n",
    "roc_auc = roc_auc_score(test_labels_binarized, test_prob, multi_class='ovr', average=\"weighted\")\n",
    "pr_auc = average_precision_score(test_labels_binarized, test_prob, average=\"weighted\")\n",
    "print(f'AUC-ROC: {roc_auc:.3f}, AUC-PR: {pr_auc:.3f}')"
   ]
  },
  {
   "cell_type": "code",
   "execution_count": 21,
   "id": "4f476d5b-1df5-4c3e-ba03-6a552dd2fcc2",
   "metadata": {
    "execution": {
     "iopub.execute_input": "2024-05-12T17:33:12.496222Z",
     "iopub.status.busy": "2024-05-12T17:33:12.495876Z",
     "iopub.status.idle": "2024-05-12T17:33:13.220947Z",
     "shell.execute_reply": "2024-05-12T17:33:13.220288Z",
     "shell.execute_reply.started": "2024-05-12T17:33:12.496200Z"
    }
   },
   "outputs": [
    {
     "data": {
      "image/png": "[encoded data removed]",
      "text/plain": [
       "<Figure size 1000x800 with 2 Axes>"
      ]
     },
     "metadata": {},
     "output_type": "display_data"
    }
   ],
   "source": [
    "# Confusion matrix calculation and display\n",
    "cm = confusion_matrix(test_labels, test_pred, labels=classes)\n",
    "disp = ConfusionMatrixDisplay(confusion_matrix=cm, display_labels=classes)\n",
    "fig, ax = plt.subplots(figsize=(10, 8))\n",
    "disp.plot(cmap='Blues', ax=ax)\n",
    "ax.set_title('Confusion Matrix')\n",
    "ax.set_xticklabels(ax.get_xticklabels(), rotation=45, ha=\"right\", rotation_mode=\"anchor\", fontsize=10)\n",
    "plt.tight_layout()\n",
    "plt.show()"
   ]
  },
  {
   "cell_type": "code",
   "execution_count": 22,
   "id": "8dd56592-8dba-4ff6-a582-cd7ad098e6d3",
   "metadata": {
    "execution": {
     "iopub.execute_input": "2024-05-12T17:33:15.994934Z",
     "iopub.status.busy": "2024-05-12T17:33:15.994640Z",
     "iopub.status.idle": "2024-05-12T17:33:20.695483Z",
     "shell.execute_reply": "2024-05-12T17:33:20.694540Z",
     "shell.execute_reply.started": "2024-05-12T17:33:15.994910Z"
    }
   },
   "outputs": [
    {
     "name": "stdout",
     "output_type": "stream",
     "text": [
      "              precision    recall  f1-score   support\n",
      "\n",
      "  BACKGROUND       0.37      0.08      0.14     11287\n",
      " CONCLUSIONS       0.60      0.69      0.64     39638\n",
      "     METHODS       0.71      0.76      0.73     59662\n",
      "   OBJECTIVE       0.42      0.11      0.17      8821\n",
      "     RESULTS       0.74      0.79      0.76     83018\n",
      "\n",
      "    accuracy                           0.69    202426\n",
      "   macro avg       0.57      0.49      0.49    202426\n",
      "weighted avg       0.67      0.69      0.67    202426\n",
      "\n"
     ]
    }
   ],
   "source": [
    "# Print classification report\n",
    "print(classification_report(test_labels, test_pred, target_names=classes))"
   ]
  },
  {
   "cell_type": "code",
   "execution_count": null,
   "id": "d6be65c0-cb4b-450a-89f9-29bc64a8f4e3",
   "metadata": {},
   "outputs": [],
   "source": []
  },
  {
   "cell_type": "markdown",
   "id": "6022a417-30da-4c5e-9474-4c5f9b0a88af",
   "metadata": {},
   "source": [
    "### Train SVM"
   ]
  },
  {
   "cell_type": "code",
   "execution_count": 23,
   "id": "18a8240a-48cb-4e22-b27d-aa1d58bd1b5f",
   "metadata": {
    "execution": {
     "iopub.execute_input": "2024-05-12T17:46:05.759649Z",
     "iopub.status.busy": "2024-05-12T17:46:05.759443Z",
     "iopub.status.idle": "2024-05-12T17:46:05.763377Z",
     "shell.execute_reply": "2024-05-12T17:46:05.762797Z",
     "shell.execute_reply.started": "2024-05-12T17:46:05.759635Z"
    }
   },
   "outputs": [],
   "source": [
    "import pickle\n",
    "import pandas as pd\n",
    "from sklearn.svm import SVC\n",
    "from sklearn.metrics import classification_report, confusion_matrix, ConfusionMatrixDisplay\n",
    "import matplotlib.pyplot as plt"
   ]
  },
  {
   "cell_type": "code",
   "execution_count": null,
   "id": "3d5d4404-aa55-4027-93b1-6e41666dcaf7",
   "metadata": {},
   "outputs": [],
   "source": [
    "%%time\n",
    "# Load data\n",
    "train_embeddings, train_labels = load_data('train_embeddings.pkl', '200K_train_set.csv')\n",
    "test_embeddings, test_labels = load_data('test_embeddings.pkl', '20K_test_set.csv')"
   ]
  },
  {
   "cell_type": "code",
   "execution_count": 7,
   "id": "b1bf8e8e-9a5a-4ae2-bff6-dc42cf64f2b1",
   "metadata": {
    "execution": {
     "iopub.execute_input": "2024-05-13T02:58:14.920035Z",
     "iopub.status.busy": "2024-05-13T02:58:14.919686Z",
     "iopub.status.idle": "2024-05-13T02:58:14.925843Z",
     "shell.execute_reply": "2024-05-13T02:58:14.925050Z",
     "shell.execute_reply.started": "2024-05-13T02:58:14.920006Z"
    }
   },
   "outputs": [],
   "source": [
    "from sklearn.linear_model import SGDClassifier\n",
    "\n",
    "sgd_model = SGDClassifier(loss='hinge', max_iter=1000, tol=1e-3, random_state=42)"
   ]
  },
  {
   "cell_type": "code",
   "execution_count": 8,
   "id": "4bd3c851-adf8-4eb3-b3e3-dbd550779749",
   "metadata": {
    "execution": {
     "iopub.execute_input": "2024-05-13T02:58:29.756271Z",
     "iopub.status.busy": "2024-05-13T02:58:29.755699Z",
     "iopub.status.idle": "2024-05-13T02:59:25.557910Z",
     "shell.execute_reply": "2024-05-13T02:59:25.557244Z",
     "shell.execute_reply.started": "2024-05-13T02:58:29.756234Z"
    }
   },
   "outputs": [
    {
     "data": {
      "text/html": [
       "<style>#sk-container-id-1 {\n",
       "  /* Definition of color scheme common for light and dark mode */\n",
       "  --sklearn-color-text: black;\n",
       "  --sklearn-color-line: gray;\n",
       "  /* Definition of color scheme for unfitted estimators */\n",
       "  --sklearn-color-unfitted-level-0: #fff5e6;\n",
       "  --sklearn-color-unfitted-level-1: #f6e4d2;\n",
       "  --sklearn-color-unfitted-level-2: #ffe0b3;\n",
       "  --sklearn-color-unfitted-level-3: chocolate;\n",
       "  /* Definition of color scheme for fitted estimators */\n",
       "  --sklearn-color-fitted-level-0: #f0f8ff;\n",
       "  --sklearn-color-fitted-level-1: #d4ebff;\n",
       "  --sklearn-color-fitted-level-2: #b3dbfd;\n",
       "  --sklearn-color-fitted-level-3: cornflowerblue;\n",
       "\n",
       "  /* Specific color for light theme */\n",
       "  --sklearn-color-text-on-default-background: var(--sg-text-color, var(--theme-code-foreground, var(--jp-content-font-color1, black)));\n",
       "  --sklearn-color-background: var(--sg-background-color, var(--theme-background, var(--jp-layout-color0, white)));\n",
       "  --sklearn-color-border-box: var(--sg-text-color, var(--theme-code-foreground, var(--jp-content-font-color1, black)));\n",
       "  --sklearn-color-icon: #696969;\n",
       "\n",
       "  @media (prefers-color-scheme: dark) {\n",
       "    /* Redefinition of color scheme for dark theme */\n",
       "    --sklearn-color-text-on-default-background: var(--sg-text-color, var(--theme-code-foreground, var(--jp-content-font-color1, white)));\n",
       "    --sklearn-color-background: var(--sg-background-color, var(--theme-background, var(--jp-layout-color0, #111)));\n",
       "    --sklearn-color-border-box: var(--sg-text-color, var(--theme-code-foreground, var(--jp-content-font-color1, white)));\n",
       "    --sklearn-color-icon: #878787;\n",
       "  }\n",
       "}\n",
       "\n",
       "#sk-container-id-1 {\n",
       "  color: var(--sklearn-color-text);\n",
       "}\n",
       "\n",
       "#sk-container-id-1 pre {\n",
       "  padding: 0;\n",
       "}\n",
       "\n",
       "#sk-container-id-1 input.sk-hidden--visually {\n",
       "  border: 0;\n",
       "  clip: rect(1px 1px 1px 1px);\n",
       "  clip: rect(1px, 1px, 1px, 1px);\n",
       "  height: 1px;\n",
       "  margin: -1px;\n",
       "  overflow: hidden;\n",
       "  padding: 0;\n",
       "  position: absolute;\n",
       "  width: 1px;\n",
       "}\n",
       "\n",
       "#sk-container-id-1 div.sk-dashed-wrapped {\n",
       "  border: 1px dashed var(--sklearn-color-line);\n",
       "  margin: 0 0.4em 0.5em 0.4em;\n",
       "  box-sizing: border-box;\n",
       "  padding-bottom: 0.4em;\n",
       "  background-color: var(--sklearn-color-background);\n",
       "}\n",
       "\n",
       "#sk-container-id-1 div.sk-container {\n",
       "  /* jupyter's `normalize.less` sets `[hidden] { display: none; }`\n",
       "     but bootstrap.min.css set `[hidden] { display: none !important; }`\n",
       "     so we also need the `!important` here to be able to override the\n",
       "     default hidden behavior on the sphinx rendered scikit-learn.org.\n",
       "     See: https://github.com/scikit-learn/scikit-learn/issues/21755 */\n",
       "  display: inline-block !important;\n",
       "  position: relative;\n",
       "}\n",
       "\n",
       "#sk-container-id-1 div.sk-text-repr-fallback {\n",
       "  display: none;\n",
       "}\n",
       "\n",
       "div.sk-parallel-item,\n",
       "div.sk-serial,\n",
       "div.sk-item {\n",
       "  /* draw centered vertical line to link estimators */\n",
       "  background-image: linear-gradient(var(--sklearn-color-text-on-default-background), var(--sklearn-color-text-on-default-background));\n",
       "  background-size: 2px 100%;\n",
       "  background-repeat: no-repeat;\n",
       "  background-position: center center;\n",
       "}\n",
       "\n",
       "/* Parallel-specific style estimator block */\n",
       "\n",
       "#sk-container-id-1 div.sk-parallel-item::after {\n",
       "  content: \"\";\n",
       "  width: 100%;\n",
       "  border-bottom: 2px solid var(--sklearn-color-text-on-default-background);\n",
       "  flex-grow: 1;\n",
       "}\n",
       "\n",
       "#sk-container-id-1 div.sk-parallel {\n",
       "  display: flex;\n",
       "  align-items: stretch;\n",
       "  justify-content: center;\n",
       "  background-color: var(--sklearn-color-background);\n",
       "  position: relative;\n",
       "}\n",
       "\n",
       "#sk-container-id-1 div.sk-parallel-item {\n",
       "  display: flex;\n",
       "  flex-direction: column;\n",
       "}\n",
       "\n",
       "#sk-container-id-1 div.sk-parallel-item:first-child::after {\n",
       "  align-self: flex-end;\n",
       "  width: 50%;\n",
       "}\n",
       "\n",
       "#sk-container-id-1 div.sk-parallel-item:last-child::after {\n",
       "  align-self: flex-start;\n",
       "  width: 50%;\n",
       "}\n",
       "\n",
       "#sk-container-id-1 div.sk-parallel-item:only-child::after {\n",
       "  width: 0;\n",
       "}\n",
       "\n",
       "/* Serial-specific style estimator block */\n",
       "\n",
       "#sk-container-id-1 div.sk-serial {\n",
       "  display: flex;\n",
       "  flex-direction: column;\n",
       "  align-items: center;\n",
       "  background-color: var(--sklearn-color-background);\n",
       "  padding-right: 1em;\n",
       "  padding-left: 1em;\n",
       "}\n",
       "\n",
       "\n",
       "/* Toggleable style: style used for estimator/Pipeline/ColumnTransformer box that is\n",
       "clickable and can be expanded/collapsed.\n",
       "- Pipeline and ColumnTransformer use this feature and define the default style\n",
       "- Estimators will overwrite some part of the style using the `sk-estimator` class\n",
       "*/\n",
       "\n",
       "/* Pipeline and ColumnTransformer style (default) */\n",
       "\n",
       "#sk-container-id-1 div.sk-toggleable {\n",
       "  /* Default theme specific background. It is overwritten whether we have a\n",
       "  specific estimator or a Pipeline/ColumnTransformer */\n",
       "  background-color: var(--sklearn-color-background);\n",
       "}\n",
       "\n",
       "/* Toggleable label */\n",
       "#sk-container-id-1 label.sk-toggleable__label {\n",
       "  cursor: pointer;\n",
       "  display: block;\n",
       "  width: 100%;\n",
       "  margin-bottom: 0;\n",
       "  padding: 0.5em;\n",
       "  box-sizing: border-box;\n",
       "  text-align: center;\n",
       "}\n",
       "\n",
       "#sk-container-id-1 label.sk-toggleable__label-arrow:before {\n",
       "  /* Arrow on the left of the label */\n",
       "  content: \"▸\";\n",
       "  float: left;\n",
       "  margin-right: 0.25em;\n",
       "  color: var(--sklearn-color-icon);\n",
       "}\n",
       "\n",
       "#sk-container-id-1 label.sk-toggleable__label-arrow:hover:before {\n",
       "  color: var(--sklearn-color-text);\n",
       "}\n",
       "\n",
       "/* Toggleable content - dropdown */\n",
       "\n",
       "#sk-container-id-1 div.sk-toggleable__content {\n",
       "  max-height: 0;\n",
       "  max-width: 0;\n",
       "  overflow: hidden;\n",
       "  text-align: left;\n",
       "  /* unfitted */\n",
       "  background-color: var(--sklearn-color-unfitted-level-0);\n",
       "}\n",
       "\n",
       "#sk-container-id-1 div.sk-toggleable__content.fitted {\n",
       "  /* fitted */\n",
       "  background-color: var(--sklearn-color-fitted-level-0);\n",
       "}\n",
       "\n",
       "#sk-container-id-1 div.sk-toggleable__content pre {\n",
       "  margin: 0.2em;\n",
       "  border-radius: 0.25em;\n",
       "  color: var(--sklearn-color-text);\n",
       "  /* unfitted */\n",
       "  background-color: var(--sklearn-color-unfitted-level-0);\n",
       "}\n",
       "\n",
       "#sk-container-id-1 div.sk-toggleable__content.fitted pre {\n",
       "  /* unfitted */\n",
       "  background-color: var(--sklearn-color-fitted-level-0);\n",
       "}\n",
       "\n",
       "#sk-container-id-1 input.sk-toggleable__control:checked~div.sk-toggleable__content {\n",
       "  /* Expand drop-down */\n",
       "  max-height: 200px;\n",
       "  max-width: 100%;\n",
       "  overflow: auto;\n",
       "}\n",
       "\n",
       "#sk-container-id-1 input.sk-toggleable__control:checked~label.sk-toggleable__label-arrow:before {\n",
       "  content: \"▾\";\n",
       "}\n",
       "\n",
       "/* Pipeline/ColumnTransformer-specific style */\n",
       "\n",
       "#sk-container-id-1 div.sk-label input.sk-toggleable__control:checked~label.sk-toggleable__label {\n",
       "  color: var(--sklearn-color-text);\n",
       "  background-color: var(--sklearn-color-unfitted-level-2);\n",
       "}\n",
       "\n",
       "#sk-container-id-1 div.sk-label.fitted input.sk-toggleable__control:checked~label.sk-toggleable__label {\n",
       "  background-color: var(--sklearn-color-fitted-level-2);\n",
       "}\n",
       "\n",
       "/* Estimator-specific style */\n",
       "\n",
       "/* Colorize estimator box */\n",
       "#sk-container-id-1 div.sk-estimator input.sk-toggleable__control:checked~label.sk-toggleable__label {\n",
       "  /* unfitted */\n",
       "  background-color: var(--sklearn-color-unfitted-level-2);\n",
       "}\n",
       "\n",
       "#sk-container-id-1 div.sk-estimator.fitted input.sk-toggleable__control:checked~label.sk-toggleable__label {\n",
       "  /* fitted */\n",
       "  background-color: var(--sklearn-color-fitted-level-2);\n",
       "}\n",
       "\n",
       "#sk-container-id-1 div.sk-label label.sk-toggleable__label,\n",
       "#sk-container-id-1 div.sk-label label {\n",
       "  /* The background is the default theme color */\n",
       "  color: var(--sklearn-color-text-on-default-background);\n",
       "}\n",
       "\n",
       "/* On hover, darken the color of the background */\n",
       "#sk-container-id-1 div.sk-label:hover label.sk-toggleable__label {\n",
       "  color: var(--sklearn-color-text);\n",
       "  background-color: var(--sklearn-color-unfitted-level-2);\n",
       "}\n",
       "\n",
       "/* Label box, darken color on hover, fitted */\n",
       "#sk-container-id-1 div.sk-label.fitted:hover label.sk-toggleable__label.fitted {\n",
       "  color: var(--sklearn-color-text);\n",
       "  background-color: var(--sklearn-color-fitted-level-2);\n",
       "}\n",
       "\n",
       "/* Estimator label */\n",
       "\n",
       "#sk-container-id-1 div.sk-label label {\n",
       "  font-family: monospace;\n",
       "  font-weight: bold;\n",
       "  display: inline-block;\n",
       "  line-height: 1.2em;\n",
       "}\n",
       "\n",
       "#sk-container-id-1 div.sk-label-container {\n",
       "  text-align: center;\n",
       "}\n",
       "\n",
       "/* Estimator-specific */\n",
       "#sk-container-id-1 div.sk-estimator {\n",
       "  font-family: monospace;\n",
       "  border: 1px dotted var(--sklearn-color-border-box);\n",
       "  border-radius: 0.25em;\n",
       "  box-sizing: border-box;\n",
       "  margin-bottom: 0.5em;\n",
       "  /* unfitted */\n",
       "  background-color: var(--sklearn-color-unfitted-level-0);\n",
       "}\n",
       "\n",
       "#sk-container-id-1 div.sk-estimator.fitted {\n",
       "  /* fitted */\n",
       "  background-color: var(--sklearn-color-fitted-level-0);\n",
       "}\n",
       "\n",
       "/* on hover */\n",
       "#sk-container-id-1 div.sk-estimator:hover {\n",
       "  /* unfitted */\n",
       "  background-color: var(--sklearn-color-unfitted-level-2);\n",
       "}\n",
       "\n",
       "#sk-container-id-1 div.sk-estimator.fitted:hover {\n",
       "  /* fitted */\n",
       "  background-color: var(--sklearn-color-fitted-level-2);\n",
       "}\n",
       "\n",
       "/* Specification for estimator info (e.g. \"i\" and \"?\") */\n",
       "\n",
       "/* Common style for \"i\" and \"?\" */\n",
       "\n",
       ".sk-estimator-doc-link,\n",
       "a:link.sk-estimator-doc-link,\n",
       "a:visited.sk-estimator-doc-link {\n",
       "  float: right;\n",
       "  font-size: smaller;\n",
       "  line-height: 1em;\n",
       "  font-family: monospace;\n",
       "  background-color: var(--sklearn-color-background);\n",
       "  border-radius: 1em;\n",
       "  height: 1em;\n",
       "  width: 1em;\n",
       "  text-decoration: none !important;\n",
       "  margin-left: 1ex;\n",
       "  /* unfitted */\n",
       "  border: var(--sklearn-color-unfitted-level-1) 1pt solid;\n",
       "  color: var(--sklearn-color-unfitted-level-1);\n",
       "}\n",
       "\n",
       ".sk-estimator-doc-link.fitted,\n",
       "a:link.sk-estimator-doc-link.fitted,\n",
       "a:visited.sk-estimator-doc-link.fitted {\n",
       "  /* fitted */\n",
       "  border: var(--sklearn-color-fitted-level-1) 1pt solid;\n",
       "  color: var(--sklearn-color-fitted-level-1);\n",
       "}\n",
       "\n",
       "/* On hover */\n",
       "div.sk-estimator:hover .sk-estimator-doc-link:hover,\n",
       ".sk-estimator-doc-link:hover,\n",
       "div.sk-label-container:hover .sk-estimator-doc-link:hover,\n",
       ".sk-estimator-doc-link:hover {\n",
       "  /* unfitted */\n",
       "  background-color: var(--sklearn-color-unfitted-level-3);\n",
       "  color: var(--sklearn-color-background);\n",
       "  text-decoration: none;\n",
       "}\n",
       "\n",
       "div.sk-estimator.fitted:hover .sk-estimator-doc-link.fitted:hover,\n",
       ".sk-estimator-doc-link.fitted:hover,\n",
       "div.sk-label-container:hover .sk-estimator-doc-link.fitted:hover,\n",
       ".sk-estimator-doc-link.fitted:hover {\n",
       "  /* fitted */\n",
       "  background-color: var(--sklearn-color-fitted-level-3);\n",
       "  color: var(--sklearn-color-background);\n",
       "  text-decoration: none;\n",
       "}\n",
       "\n",
       "/* Span, style for the box shown on hovering the info icon */\n",
       ".sk-estimator-doc-link span {\n",
       "  display: none;\n",
       "  z-index: 9999;\n",
       "  position: relative;\n",
       "  font-weight: normal;\n",
       "  right: .2ex;\n",
       "  padding: .5ex;\n",
       "  margin: .5ex;\n",
       "  width: min-content;\n",
       "  min-width: 20ex;\n",
       "  max-width: 50ex;\n",
       "  color: var(--sklearn-color-text);\n",
       "  box-shadow: 2pt 2pt 4pt #999;\n",
       "  /* unfitted */\n",
       "  background: var(--sklearn-color-unfitted-level-0);\n",
       "  border: .5pt solid var(--sklearn-color-unfitted-level-3);\n",
       "}\n",
       "\n",
       ".sk-estimator-doc-link.fitted span {\n",
       "  /* fitted */\n",
       "  background: var(--sklearn-color-fitted-level-0);\n",
       "  border: var(--sklearn-color-fitted-level-3);\n",
       "}\n",
       "\n",
       ".sk-estimator-doc-link:hover span {\n",
       "  display: block;\n",
       "}\n",
       "\n",
       "/* \"?\"-specific style due to the `<a>` HTML tag */\n",
       "\n",
       "#sk-container-id-1 a.estimator_doc_link {\n",
       "  float: right;\n",
       "  font-size: 1rem;\n",
       "  line-height: 1em;\n",
       "  font-family: monospace;\n",
       "  background-color: var(--sklearn-color-background);\n",
       "  border-radius: 1rem;\n",
       "  height: 1rem;\n",
       "  width: 1rem;\n",
       "  text-decoration: none;\n",
       "  /* unfitted */\n",
       "  color: var(--sklearn-color-unfitted-level-1);\n",
       "  border: var(--sklearn-color-unfitted-level-1) 1pt solid;\n",
       "}\n",
       "\n",
       "#sk-container-id-1 a.estimator_doc_link.fitted {\n",
       "  /* fitted */\n",
       "  border: var(--sklearn-color-fitted-level-1) 1pt solid;\n",
       "  color: var(--sklearn-color-fitted-level-1);\n",
       "}\n",
       "\n",
       "/* On hover */\n",
       "#sk-container-id-1 a.estimator_doc_link:hover {\n",
       "  /* unfitted */\n",
       "  background-color: var(--sklearn-color-unfitted-level-3);\n",
       "  color: var(--sklearn-color-background);\n",
       "  text-decoration: none;\n",
       "}\n",
       "\n",
       "#sk-container-id-1 a.estimator_doc_link.fitted:hover {\n",
       "  /* fitted */\n",
       "  background-color: var(--sklearn-color-fitted-level-3);\n",
       "}\n",
       "</style><div id=\"sk-container-id-1\" class=\"sk-top-container\"><div class=\"sk-text-repr-fallback\"><pre>SGDClassifier(random_state=42)</pre><b>In a Jupyter environment, please rerun this cell to show the HTML representation or trust the notebook. <br />On GitHub, the HTML representation is unable to render, please try loading this page with nbviewer.org.</b></div><div class=\"sk-container\" hidden><div class=\"sk-item\"><div class=\"sk-estimator fitted sk-toggleable\"><input class=\"sk-toggleable__control sk-hidden--visually\" id=\"sk-estimator-id-1\" type=\"checkbox\" checked><label for=\"sk-estimator-id-1\" class=\"sk-toggleable__label fitted sk-toggleable__label-arrow fitted\">&nbsp;&nbsp;SGDClassifier<a class=\"sk-estimator-doc-link fitted\" rel=\"noreferrer\" target=\"_blank\" href=\"https://scikit-learn.org/1.4/modules/generated/sklearn.linear_model.SGDClassifier.html\">?<span>Documentation for SGDClassifier</span></a><span class=\"sk-estimator-doc-link fitted\">i<span>Fitted</span></span></label><div class=\"sk-toggleable__content fitted\"><pre>SGDClassifier(random_state=42)</pre></div> </div></div></div></div>"
      ],
      "text/plain": [
       "SGDClassifier(random_state=42)"
      ]
     },
     "execution_count": 8,
     "metadata": {},
     "output_type": "execute_result"
    }
   ],
   "source": [
    "sgd_model.fit(train_embeddings, train_labels)"
   ]
  },
  {
   "cell_type": "code",
   "execution_count": 15,
   "id": "5402be83-d9b0-4ed4-ad23-2cffbd3dd5b6",
   "metadata": {
    "execution": {
     "iopub.execute_input": "2024-05-13T03:01:36.474511Z",
     "iopub.status.busy": "2024-05-13T03:01:36.474181Z",
     "iopub.status.idle": "2024-05-13T03:01:36.538993Z",
     "shell.execute_reply": "2024-05-13T03:01:36.538530Z",
     "shell.execute_reply.started": "2024-05-13T03:01:36.474489Z"
    }
   },
   "outputs": [
    {
     "name": "stdout",
     "output_type": "stream",
     "text": [
      "CPU times: user 491 ms, sys: 488 ms, total: 979 ms\n",
      "Wall time: 60.9 ms\n"
     ]
    }
   ],
   "source": [
    "%%time\n",
    "# Predict labels for the test set\n",
    "test_pred = sgd_model.predict(test_embeddings)\n"
   ]
  },
  {
   "cell_type": "code",
   "execution_count": 11,
   "id": "ed03ee65-dc05-4379-b054-ca3031b00ca1",
   "metadata": {
    "execution": {
     "iopub.execute_input": "2024-05-13T02:59:54.617389Z",
     "iopub.status.busy": "2024-05-13T02:59:54.616963Z",
     "iopub.status.idle": "2024-05-13T02:59:59.006388Z",
     "shell.execute_reply": "2024-05-13T02:59:59.005859Z",
     "shell.execute_reply.started": "2024-05-13T02:59:54.617370Z"
    }
   },
   "outputs": [
    {
     "name": "stdout",
     "output_type": "stream",
     "text": [
      "Classification Report for SVM:\n",
      "               precision    recall  f1-score   support\n",
      "\n",
      "  BACKGROUND       0.22      0.01      0.03     11287\n",
      " CONCLUSIONS       0.60      0.62      0.61     39638\n",
      "     METHODS       0.67      0.78      0.72     59662\n",
      "   OBJECTIVE       0.32      0.00      0.01      8821\n",
      "     RESULTS       0.72      0.79      0.76     83018\n",
      "\n",
      "    accuracy                           0.68    202426\n",
      "   macro avg       0.51      0.44      0.42    202426\n",
      "weighted avg       0.64      0.68      0.64    202426\n",
      "\n"
     ]
    },
    {
     "data": {
      "image/png": "[encoded data removed]",
      "text/plain": [
       "<Figure size 1000x800 with 2 Axes>"
      ]
     },
     "metadata": {},
     "output_type": "display_data"
    },
    {
     "name": "stdout",
     "output_type": "stream",
     "text": [
      "CPU times: user 4.05 s, sys: 321 ms, total: 4.37 s\n",
      "Wall time: 4.33 s\n"
     ]
    }
   ],
   "source": [
    "%%time \n",
    "# Evaluation metrics\n",
    "print(\"Classification Report for SVM:\\n\", classification_report(test_labels, test_pred))\n",
    "cm = confusion_matrix(test_labels, test_pred)\n",
    "disp = ConfusionMatrixDisplay(confusion_matrix=cm, display_labels=np.unique(test_labels))\n",
    "fig, ax = plt.subplots(figsize=(10, 8))\n",
    "disp.plot(cmap='Blues', ax=ax)\n",
    "ax.set_title('Confusion Matrix for SVM')\n",
    "ax.set_xticklabels(ax.get_xticklabels(), rotation=45, ha=\"right\", rotation_mode=\"anchor\", fontsize=10)\n",
    "plt.tight_layout()\n",
    "plt.show()"
   ]
  },
  {
   "cell_type": "code",
   "execution_count": 12,
   "id": "ad029d6e-fa73-4aa9-ad06-f9c93a811761",
   "metadata": {
    "execution": {
     "iopub.execute_input": "2024-05-13T03:00:28.448385Z",
     "iopub.status.busy": "2024-05-13T03:00:28.448067Z",
     "iopub.status.idle": "2024-05-13T03:00:29.213206Z",
     "shell.execute_reply": "2024-05-13T03:00:29.212446Z",
     "shell.execute_reply.started": "2024-05-13T03:00:28.448359Z"
    }
   },
   "outputs": [
    {
     "name": "stdout",
     "output_type": "stream",
     "text": [
      "Sentence-level F1 Score: 0.424\n"
     ]
    }
   ],
   "source": [
    "# Calculate sentence-level F1 Score\n",
    "sentence_f1 = f1_score(test_labels, test_pred, average='macro')\n",
    "print(f'Sentence-level F1 Score: {sentence_f1:.3f}')"
   ]
  },
  {
   "cell_type": "code",
   "execution_count": 3,
   "id": "f9ab8230-6e11-412e-8ab3-32e70837cc23",
   "metadata": {
    "execution": {
     "iopub.execute_input": "2024-05-13T15:11:51.332021Z",
     "iopub.status.busy": "2024-05-13T15:11:51.331525Z",
     "iopub.status.idle": "2024-05-13T15:11:51.487142Z",
     "shell.execute_reply": "2024-05-13T15:11:51.486421Z",
     "shell.execute_reply.started": "2024-05-13T15:11:51.331995Z"
    }
   },
   "outputs": [
    {
     "ename": "NameError",
     "evalue": "name 'test_labels' is not defined",
     "output_type": "error",
     "traceback": [
      "\u001b[0;31m---------------------------------------------------------------------------\u001b[0m",
      "\u001b[0;31mNameError\u001b[0m                                 Traceback (most recent call last)",
      "Cell \u001b[0;32mIn[3], line 1\u001b[0m\n\u001b[0;32m----> 1\u001b[0m classes \u001b[38;5;241m=\u001b[39m np\u001b[38;5;241m.\u001b[39munique(test_labels)\n\u001b[1;32m      2\u001b[0m test_labels_binarized \u001b[38;5;241m=\u001b[39m label_binarize(test_labels, classes\u001b[38;5;241m=\u001b[39mclasses)\n\u001b[1;32m      3\u001b[0m \u001b[38;5;66;03m# test_prob = lr_model.predict_proba(test_embeddings)\u001b[39;00m\n\u001b[1;32m      4\u001b[0m \n\u001b[1;32m      5\u001b[0m \u001b[38;5;66;03m# Calculate AUC scores\u001b[39;00m\n",
      "\u001b[0;31mNameError\u001b[0m: name 'test_labels' is not defined"
     ]
    }
   ],
   "source": [
    "classes = np.unique(test_labels)\n",
    "test_labels_binarized = label_binarize(test_labels, classes=classes)\n",
    "# test_prob = lr_model.predict_proba(test_embeddings)\n",
    "\n",
    "# Calculate AUC scores\n",
    "roc_auc = roc_auc_score(test_labels_binarized, test_prob, multi_class='ovr', average=\"weighted\")\n",
    "pr_auc = average_precision_score(test_labels_binarized, test_prob, average=\"weighted\")\n",
    "print(f'AUC-ROC: {roc_auc:.3f}, AUC-PR: {pr_auc:.3f}')"
   ]
  },
  {
   "cell_type": "code",
   "execution_count": 17,
   "id": "8573c7a8-10cf-4492-a7c4-9709feb7a934",
   "metadata": {
    "execution": {
     "iopub.execute_input": "2024-05-13T03:03:23.439491Z",
     "iopub.status.busy": "2024-05-13T03:03:23.439158Z",
     "iopub.status.idle": "2024-05-13T03:03:26.752547Z",
     "shell.execute_reply": "2024-05-13T03:03:26.751774Z",
     "shell.execute_reply.started": "2024-05-13T03:03:23.439467Z"
    }
   },
   "outputs": [
    {
     "name": "stdout",
     "output_type": "stream",
     "text": [
      "              precision    recall  f1-score   support\n",
      "\n",
      "  BACKGROUND       0.22      0.01      0.03     11287\n",
      " CONCLUSIONS       0.60      0.62      0.61     39638\n",
      "     METHODS       0.67      0.78      0.72     59662\n",
      "   OBJECTIVE       0.32      0.00      0.01      8821\n",
      "     RESULTS       0.72      0.79      0.76     83018\n",
      "\n",
      "    accuracy                           0.68    202426\n",
      "   macro avg       0.51      0.44      0.42    202426\n",
      "weighted avg       0.64      0.68      0.64    202426\n",
      "\n"
     ]
    }
   ],
   "source": [
    "# Print classification report\n",
    "print(classification_report(test_labels, test_pred, target_names=classes))"
   ]
  },
  {
   "cell_type": "code",
   "execution_count": null,
   "id": "ca931b94-40d0-4cb1-9420-dc97f41a28dc",
   "metadata": {},
   "outputs": [],
   "source": []
  }
 ],
 "metadata": {
  "kernelspec": {
   "display_name": "Python [conda env:autogenllm]",
   "language": "python",
   "name": "conda-env-autogenllm-py"
  },
  "language_info": {
   "codemirror_mode": {
    "name": "ipython",
    "version": 3
   },
   "file_extension": ".py",
   "mimetype": "text/x-python",
   "name": "python",
   "nbconvert_exporter": "python",
   "pygments_lexer": "ipython3",
   "version": "3.11.5"
  }
 },
 "nbformat": 4,
 "nbformat_minor": 5
}
